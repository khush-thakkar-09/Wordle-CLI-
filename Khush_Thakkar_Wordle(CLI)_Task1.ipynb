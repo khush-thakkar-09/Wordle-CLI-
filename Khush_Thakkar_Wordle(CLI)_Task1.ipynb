{
 "cells": [
  {
   "cell_type": "code",
   "execution_count": 37,
   "id": "89beaa2f-cf0d-494b-8aa6-2a492eac3800",
   "metadata": {},
   "outputs": [],
   "source": [
    "import random\n",
    "from colorama import Fore, Style, init\n",
    "init(autoreset=True)"
   ]
  },
  {
   "cell_type": "code",
   "execution_count": 38,
   "id": "536b6523-d05f-412d-bdf1-484634c62fad",
   "metadata": {},
   "outputs": [],
   "source": [
    "def load_words():\n",
    "    with open('sgb-words.txt','r') as f:\n",
    "        words = f.read().splitlines() #using splitline() to split on '\\n' while creating word list\n",
    "        secret = random.choice(words).lower()\n",
    "        words_set = set(w.lower() for w in words if len(w)==5)\n",
    "    return secret, words_set"
   ]
  },
  {
   "cell_type": "code",
   "execution_count": 39,
   "id": "ae099290-b854-44c4-924c-9dc841cf4646",
   "metadata": {},
   "outputs": [],
   "source": [
    "def letter_tracker(secret):\n",
    "    letter_dict={}\n",
    "    for letter in secret:\n",
    "        if letter not in letter_dict.keys():\n",
    "            letter_dict[letter] = 1\n",
    "        else:\n",
    "            letter_dict[letter] += 1\n",
    "    return letter_dict"
   ]
  },
  {
   "cell_type": "code",
   "execution_count": 40,
   "id": "9e975ff1-0343-40ed-a3cb-169a51ebcfda",
   "metadata": {},
   "outputs": [],
   "source": [
    "def show_output(secret,guess):\n",
    "    letter_dict = letter_tracker(secret)\n",
    "\n",
    "    output = [\"\"]*5\n",
    "    for i in range(5):\n",
    "        if guess[i]==secret[i]:\n",
    "            output[i] = Fore.GREEN + guess[i].upper() + Style.RESET_ALL\n",
    "            letter_dict[guess[i]]-=1\n",
    "\n",
    "    for i in range(5):\n",
    "        if output[i] != \"\":\n",
    "            continue\n",
    "        if (guess[i] in secret) and (letter_dict[guess[i]]>0):\n",
    "            output[i] = Fore.YELLOW + guess[i].upper() + Style.RESET_ALL\n",
    "            letter_dict[guess[i]]-=1\n",
    "        else:\n",
    "            output[i] = Fore.LIGHTBLACK_EX + guess[i].upper() + Style.RESET_ALL\n",
    "\n",
    "    print(\" \".join(output))"
   ]
  },
  {
   "cell_type": "code",
   "execution_count": 41,
   "id": "4245968e-bcac-45f8-8df9-3e7244d4f4a3",
   "metadata": {},
   "outputs": [],
   "source": [
    "def main():\n",
    "    secret,words_set = load_words()\n",
    "    attempts = 6\n",
    "\n",
    "    while attempts>0:\n",
    "        guess = input(\"Enter guess: \").lower()\n",
    "\n",
    "        if len(guess)!=5:\n",
    "            print(\"Guess must be 5 letters\")\n",
    "            continue\n",
    "        if guess not in words_set:\n",
    "            print(\"Word not in list\")\n",
    "            continue\n",
    "\n",
    "        if guess == secret:\n",
    "            print(Fore.GREEN + \"Correct Guess!!\" + Style.RESET_ALL)\n",
    "            return \n",
    "\n",
    "        show_output(secret,guess)\n",
    "        attempts-=1\n",
    "        print(f\"Attempts Left: {attempts}\")\n",
    "\n",
    "    print(\"Game Over!\")\n",
    "    print(f\"Secret Word: {secret.upper()}\")"
   ]
  },
  {
   "cell_type": "code",
   "execution_count": null,
   "id": "20374e19-84d0-48d2-bce0-fb575c669a36",
   "metadata": {},
   "outputs": [],
   "source": [
    "if __name__ == \"__main__\":\n",
    "    main()"
   ]
  }
 ],
 "metadata": {
  "kernelspec": {
   "display_name": "Python 3 (ipykernel)",
   "language": "python",
   "name": "python3"
  },
  "language_info": {
   "codemirror_mode": {
    "name": "ipython",
    "version": 3
   },
   "file_extension": ".py",
   "mimetype": "text/x-python",
   "name": "python",
   "nbconvert_exporter": "python",
   "pygments_lexer": "ipython3",
   "version": "3.12.7"
  }
 },
 "nbformat": 4,
 "nbformat_minor": 5
}
